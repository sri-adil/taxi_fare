{
 "cells": [
  {
   "cell_type": "code",
   "execution_count": 0,
   "metadata": {
    "_cell_guid": "b1076dfc-b9ad-4769-8c92-a6c4dae69d19",
    "_uuid": "8f2839f25d086af736a60e9eeb907d3b93b6e0e5",
    "colab": {},
    "colab_type": "code",
    "id": "3pPX9k12qIHn"
   },
   "outputs": [],
   "source": [
    "# Importing libraries.\n",
    "\n",
    "import numpy as np # linear algebra\n",
    "import pandas as pd # data processing, CSV file I/O (e.g. pd.read_csv)\n",
    "import os"
   ]
  },
  {
   "cell_type": "code",
   "execution_count": 0,
   "metadata": {
    "colab": {
     "base_uri": "https://localhost:8080/",
     "height": 55
    },
    "colab_type": "code",
    "id": "nxFyxEi8qQim",
    "outputId": "34e8e736-fb55-41c9-f83c-b096d2591cf1"
   },
   "outputs": [
    {
     "name": "stdout",
     "output_type": "stream",
     "text": [
      "Drive already mounted at /content/drive; to attempt to forcibly remount, call drive.mount(\"/content/drive\", force_remount=True).\n"
     ]
    }
   ],
   "source": [
    "# Mounting at collab.\n",
    "\n",
    "from google.colab import drive\n",
    "drive.mount('/content/drive')"
   ]
  },
  {
   "cell_type": "code",
   "execution_count": 0,
   "metadata": {
    "_cell_guid": "79c7e3d0-c299-4dcb-8224-4455121ee9b0",
    "_uuid": "d629ff2d2480ee46fbb7e2d37f6b5fab8052498a",
    "colab": {},
    "colab_type": "code",
    "id": "Fp9g8UoIqIH2"
   },
   "outputs": [],
   "source": [
    "# Importing more libraries and setting preferences.\n",
    "\n",
    "import matplotlib.pyplot as plt\n",
    "import seaborn as sns\n",
    "plt.style.use('dark_background')\n",
    "sns.set_style(\"darkgrid\")\n"
   ]
  },
  {
   "cell_type": "code",
   "execution_count": 0,
   "metadata": {
    "_uuid": "7fca7d8cd4e325ece65b6da483fa54d05223d55b",
    "colab": {
     "base_uri": "https://localhost:8080/",
     "height": 52
    },
    "colab_type": "code",
    "id": "IouC1RHeqIH-",
    "outputId": "51fd453b-d7c6-45a6-f2da-bbdfcfc197f6"
   },
   "outputs": [
    {
     "name": "stdout",
     "output_type": "stream",
     "text": [
      "CPU times: user 1min 1s, sys: 12.3 s, total: 1min 13s\n",
      "Wall time: 1min 20s\n"
     ]
    }
   ],
   "source": [
    "# Reading File.\n",
    "\n",
    "df_tmp = pd.read_feather('/content/drive/My Drive/nyc_taxi_data_raw.feather')\n",
    "train = df_tmp.sample(frac=0.05, replace=True, random_state=1)"
   ]
  },
  {
   "cell_type": "code",
   "execution_count": 0,
   "metadata": {
    "_uuid": "b5b1c9edcdba79e27521a84c146948732edc9c76",
    "colab": {
     "base_uri": "https://localhost:8080/",
     "height": 52
    },
    "colab_type": "code",
    "id": "FEasiL_SqIIJ",
    "outputId": "de27a2be-ad80-48b0-82b6-4a60eabef60b"
   },
   "outputs": [
    {
     "name": "stdout",
     "output_type": "stream",
     "text": [
      "CPU times: user 4.78 s, sys: 63.6 ms, total: 4.84 s\n",
      "Wall time: 4.84 s\n"
     ]
    }
   ],
   "source": [
    "# Saving into feather format, as it loads the same dataframe next time directly, without reading the csv file again!\n",
    "train = train.drop('index' , axis=1)\n",
    "del df_tmp"
   ]
  },
  {
   "cell_type": "code",
   "execution_count": 0,
   "metadata": {
    "_uuid": "bb3457c3c81185d9a2c893b6ca543424d635035a",
    "colab": {},
    "colab_type": "code",
    "id": "g5pbpqVNqIIZ"
   },
   "outputs": [],
   "source": [
    "# Creating training dataframe.\n",
    "df_train = train\n",
    "\n",
    "# Checking statistics of the features\n",
    "df_train.describe()"
   ]
  },
  {
   "cell_type": "code",
   "execution_count": 0,
   "metadata": {
    "_uuid": "3e712f6dcaf7dfce4220d3bae52d9d7acc748896",
    "colab": {
     "base_uri": "https://localhost:8080/",
     "height": 35
    },
    "colab_type": "code",
    "id": "DWgB50fdqIIq",
    "outputId": "5304cec3-905c-43a4-931b-56b161b8094d"
   },
   "outputs": [
    {
     "data": {
      "text/plain": [
       "11083985"
      ]
     },
     "execution_count": 8,
     "metadata": {
      "tags": []
     },
     "output_type": "execute_result"
    }
   ],
   "source": [
    "# Counting number of rows which has fare_amount less than zero.\n",
    "\n",
    "len(df_train[df_train.fare_amount > 0])"
   ]
  },
  {
   "cell_type": "code",
   "execution_count": 0,
   "metadata": {
    "_uuid": "c814d910ea376c60ba6a3843800779e2880dc619",
    "colab": {},
    "colab_type": "code",
    "id": "23gIdoXoqIIz"
   },
   "outputs": [],
   "source": [
    "# Since they are less than 300 records which has fare_amount less than zero,\n",
    "# So we will drop them ( for 2.000.000 rows)\n",
    "\n",
    "df_train = df_train[df_train.fare_amount>=0]"
   ]
  },
  {
   "cell_type": "code",
   "execution_count": 0,
   "metadata": {
    "_uuid": "371797ddc5d9d8662eab168af00b58448f49d400",
    "colab": {
     "base_uri": "https://localhost:8080/",
     "height": 176
    },
    "colab_type": "code",
    "id": "kxrLROsHqIJB",
    "outputId": "837febc0-550a-4ad1-928f-51187c04684e"
   },
   "outputs": [
    {
     "data": {
      "text/plain": [
       "key                   0\n",
       "fare_amount           0\n",
       "pickup_datetime       0\n",
       "pickup_longitude      0\n",
       "pickup_latitude       0\n",
       "dropoff_longitude    77\n",
       "dropoff_latitude     77\n",
       "passenger_count       0\n",
       "dtype: int64"
      ]
     },
     "execution_count": 11,
     "metadata": {
      "tags": []
     },
     "output_type": "execute_result"
    }
   ],
   "source": [
    "#Count the number of null value.\n",
    "\n",
    "df_train.isnull().sum()"
   ]
  },
  {
   "cell_type": "code",
   "execution_count": 0,
   "metadata": {
    "_uuid": "4dc17711ecac07c560c9fb5e24bde3b9cb943ed4",
    "colab": {},
    "colab_type": "code",
    "id": "kULQpVf2qIJJ"
   },
   "outputs": [],
   "source": [
    "#Since the number of null values are not too much, we will drop all the rows with null value.\n",
    "\n",
    "df_train = df_train.dropna(how = 'any', axis = 'rows')"
   ]
  },
  {
   "cell_type": "code",
   "execution_count": 0,
   "metadata": {
    "_uuid": "ba0244092fe208bc0cfe02bfa10d86ea036b9341",
    "colab": {},
    "colab_type": "code",
    "id": "yk7vjiVWqIJQ"
   },
   "outputs": [],
   "source": [
    "# Read test data\n",
    "\n",
    "df_test =  pd.read_csv('/content/drive/My Drive/test.csv')"
   ]
  },
  {
   "cell_type": "code",
   "execution_count": 0,
   "metadata": {
    "_uuid": "cef2208da2d95a50469ce33a7b51053acb30f840",
    "colab": {
     "base_uri": "https://localhost:8080/",
     "height": 365
    },
    "colab_type": "code",
    "id": "Zzsuagv_qIJX",
    "outputId": "e40bca32-7a72-4de6-c2c7-60621b718b9a"
   },
   "outputs": [
    {
     "data": {
      "text/plain": [
       "<matplotlib.axes._subplots.AxesSubplot at 0x7fedc14e4748>"
      ]
     },
     "execution_count": 14,
     "metadata": {
      "tags": []
     },
     "output_type": "execute_result"
    },
    {
     "data": {
      "image/png": "[encoded data removed]",
      "text/plain": [
       "<Figure size 432x288 with 2 Axes>"
      ]
     },
     "metadata": {
      "tags": []
     },
     "output_type": "display_data"
    }
   ],
   "source": []
  },
  {
   "cell_type": "code",
   "execution_count": 0,
   "metadata": {
    "colab": {},
    "colab_type": "code",
    "id": "mTqHNQTfD3C7"
   },
   "outputs": [],
   "source": []
  },
  {
   "cell_type": "code",
   "execution_count": 0,
   "metadata": {
    "_uuid": "c6d4be7a9b3ba4f366a5898665d9580d17ea2495",
    "colab": {},
    "colab_type": "code",
    "id": "dV8FcMLoqIJh"
   },
   "outputs": [],
   "source": [
    "# Timestamp converted to favourabe date format in training data.\n",
    "\n",
    "df_train['pickup_datetime'] = pd.to_datetime(df_train['pickup_datetime'],format=\"%Y-%m-%d %H:%M:%S UTC\")\n",
    "df_train['pickup_datetime']"
   ]
  },
  {
   "cell_type": "code",
   "execution_count": 0,
   "metadata": {
    "_uuid": "193c11a08931538f39f7518f62abd628783f281d",
    "colab": {
     "base_uri": "https://localhost:8080/",
     "height": 229
    },
    "colab_type": "code",
    "id": "IWbjMxZRqIJp",
    "outputId": "2ba25792-a4f2-4954-b47b-3c0dc5e1dcb0"
   },
   "outputs": [
    {
     "data": {
      "text/plain": [
       "6762380    2009-08-07 06:10:00\n",
       "491263     2011-12-10 18:24:54\n",
       "13419401   2010-03-27 19:52:01\n",
       "23440075   2012-10-01 09:05:00\n",
       "26331983   2013-05-25 18:55:00\n",
       "                   ...        \n",
       "7347563    2010-03-11 17:40:58\n",
       "23979439   2011-07-15 08:03:05\n",
       "38850785   2014-11-12 10:09:38\n",
       "1542835    2011-11-10 06:39:00\n",
       "31445022   2010-07-03 17:10:55\n",
       "Name: pickup_datetime, Length: 11084170, dtype: datetime64[ns]"
      ]
     },
     "execution_count": 16,
     "metadata": {
      "tags": []
     },
     "output_type": "execute_result"
    }
   ],
   "source": []
  },
  {
   "cell_type": "code",
   "execution_count": 0,
   "metadata": {
    "_uuid": "e37cc3518542741711fdd7748d284582fb87dffe",
    "colab": {},
    "colab_type": "code",
    "id": "hSi38mPZqIJ0"
   },
   "outputs": [],
   "source": [
    "# Timestamp converted to favourabe date format in test data.\n",
    "\n",
    "df_test['pickup_datetime'] = pd.to_datetime(df_test['pickup_datetime'],format=\"%Y-%m-%d %H:%M:%S UTC\")"
   ]
  },
  {
   "cell_type": "markdown",
   "metadata": {
    "_uuid": "2c9bc0ee7cb27f418bf689566499bd77653a84ba",
    "colab_type": "text",
    "id": "VWhHvmYJqIJ8"
   },
   "source": [
    "We will extract more features from Pickup Datetime to hour, day, month, year, day_of_week"
   ]
  },
  {
   "cell_type": "code",
   "execution_count": 0,
   "metadata": {
    "_uuid": "0b29486939c52067078063d0e48f09e64bd88e15",
    "colab": {},
    "colab_type": "code",
    "id": "sQJUCniEqIJ-"
   },
   "outputs": [],
   "source": [
    "# Created a function for extracting hour, day, month, year and week from the date format.\n",
    "\n",
    "def add_new_date_time_features(dataset):\n",
    "    dataset['hour'] = dataset.pickup_datetime.dt.hour\n",
    "    dataset['day'] = dataset.pickup_datetime.dt.day\n",
    "    dataset['month'] = dataset.pickup_datetime.dt.month\n",
    "    dataset['year'] = dataset.pickup_datetime.dt.year\n",
    "    dataset['day_of_week'] = dataset.pickup_datetime.dt.dayofweek\n",
    "    \n",
    "    return dataset"
   ]
  },
  {
   "cell_type": "code",
   "execution_count": null,
   "metadata": {},
   "outputs": [],
   "source": [
    "# Applied the above funcyion in both train and test dataset.\n",
    "\n",
    "df_train = add_new_date_time_features(df_train)\n",
    "df_test = add_new_date_time_features(df_test)"
   ]
  },
  {
   "cell_type": "code",
   "execution_count": null,
   "metadata": {},
   "outputs": [],
   "source": [
    "# Creating heatmap to view correlation between different features.\n",
    "\n",
    "target = df_train[['fare_amount']]\n",
    "df_train['fare_amount'] = target\n",
    "\n",
    "matrix = df_train.corr()\n",
    "sns.heatmap(matrix)"
   ]
  },
  {
   "cell_type": "code",
   "execution_count": 0,
   "metadata": {
    "_uuid": "cd9ecebef181011052271368a667a69c2995c01d",
    "colab": {
     "base_uri": "https://localhost:8080/",
     "height": 265
    },
    "colab_type": "code",
    "id": "WLVPvLanqIKM",
    "outputId": "1d17fdd2-671f-45f7-cc45-5e31999f6677"
   },
   "outputs": [
    {
     "data": {
      "image/png": "[encoded data removed]",
      "text/plain": [
       "<Figure size 432x288 with 1 Axes>"
      ]
     },
     "metadata": {
      "tags": []
     },
     "output_type": "display_data"
    }
   ],
   "source": [
    "# Fare_amount plotted year wise.\n",
    "\n",
    "monthly_fare = df_train.groupby(['year', 'month']).fare_amount.mean().reset_index()\n",
    "monthly_fare.index = pd.to_datetime(monthly_fare.year.astype(str) + '-' + monthly_fare.month.astype(str).str.zfill(2) + '-01')\n",
    "_ = monthly_fare.fare_amount.plot()\n",
    "_ = [plt.axvline(pd.to_datetime(m), linestyle='dashed', color='skyblue') for m in monthly_fare.index if m.month==1]\n",
    "_ = plt.axvspan(pd.to_datetime('2012-08-01'), pd.to_datetime('2012-09-01'), color='pink')"
   ]
  },
  {
   "cell_type": "code",
   "execution_count": 0,
   "metadata": {
    "colab": {},
    "colab_type": "code",
    "id": "ayiqDlgyFZ4y"
   },
   "outputs": [],
   "source": [
    "# We observed from above that there was a hike in base fare after Sepetember 2012.\n",
    "# Therefore a new feature hike_status is added.\n",
    "\n",
    "df_train['hike_status'] = 0\n",
    "df_train.loc[(df_train.year >= 2012) & (df_train.month >= 9), 'hike_status'] = 1\n",
    "\n",
    "df_test['hike_status'] = 0\n",
    "df_test.loc[(df_test.year >= 2012) & (df_test.month >= 9), 'hike_status'] = 1"
   ]
  },
  {
   "cell_type": "code",
   "execution_count": 0,
   "metadata": {
    "colab": {
     "base_uri": "https://localhost:8080/",
     "height": 265
    },
    "colab_type": "code",
    "id": "XFAq3wamGEkl",
    "outputId": "b1cf0aac-7cf7-411a-e8ed-7d641a37ab20"
   },
   "outputs": [
    {
     "data": {
      "image/png": "[encoded data removed]",
      "text/plain": [
       "<Figure size 432x288 with 1 Axes>"
      ]
     },
     "metadata": {
      "tags": []
     },
     "output_type": "display_data"
    }
   ],
   "source": [
    "# Fare_amount plotted month wise for each year.\n",
    "\n",
    "years = [2009, 2010, 2011, 2012, 2013, 2014, 2015]\n",
    "for y in years:\n",
    "    year_data = df_train[df_train.year==y].reset_index(drop=True).groupby('month').fare_amount.mean().reset_index()\n",
    "    year_data.fare_amount.plot.line(marker='.')\n",
    "_ = plt.xticks(range(12), ['Jan', 'Feb', 'Mar', 'Apr', 'May', 'Jun', 'Jul', 'Aug', 'Sep', 'Oct', 'Nov', 'Dec'])\n",
    "_ = plt.axvspan(-0.5, 2.5, color='pink')\n",
    "_ = plt.legend(years)"
   ]
  },
  {
   "cell_type": "code",
   "execution_count": 0,
   "metadata": {
    "colab": {},
    "colab_type": "code",
    "id": "L4vTdP7SGE3h"
   },
   "outputs": [],
   "source": [
    "# We observed from above that the fares are low on the starting 3 months of each year.\n",
    "# Therefore a new feature fare_season is added to denote them.\n",
    "\n",
    "df_train['fare_season'] = 1\n",
    "df_train.loc[df_train.month <= 3, 'fare_season'] = 0\n",
    "\n",
    "df_test['fare_season'] = 1\n",
    "df_test.loc[df_test.month <= 3, 'fare_season'] = 0"
   ]
  },
  {
   "cell_type": "code",
   "execution_count": 0,
   "metadata": {
    "colab": {
     "base_uri": "https://localhost:8080/",
     "height": 265
    },
    "colab_type": "code",
    "id": "xEDUev7hHMgK",
    "outputId": "66c7c347-766b-430f-9ae0-442bc012fb1a"
   },
   "outputs": [
    {
     "data": {
      "image/png": "[encoded data removed]",
      "text/plain": [
       "<Figure size 432x288 with 1 Axes>"
      ]
     },
     "metadata": {
      "tags": []
     },
     "output_type": "display_data"
    }
   ],
   "source": [
    "# Fare_amount plotted hour wise.\n",
    "\n",
    "hourly_fare = df_train.groupby('hour').fare_amount.mean().reset_index()\n",
    "\n",
    "# UTC time adjustment to NYC (GMT-4)\n",
    "\n",
    "hourly_fare.hour -= 4\n",
    "hourly_fare.hour %= 24\n",
    "hourly_fare = hourly_fare.sort_values('hour').reset_index(drop=True)\n",
    "_ = hourly_fare.fare_amount.plot.line(marker='.')\n",
    "hours = ['12mn'] + [str(i) + 'am' for i in range(1,12)] + ['12nn'] + [str(i) + 'pm' for i in range(1,12)]\n",
    "_ = plt.xticks(range(24), hours)\n",
    "_ = plt.axhline(11.5, color='pink', linestyle='dashed')\n",
    "_ = plt.axhline(11, color='pink', linestyle='dashed')"
   ]
  },
  {
   "cell_type": "code",
   "execution_count": 0,
   "metadata": {
    "colab": {},
    "colab_type": "code",
    "id": "oqF0mxK7HMuo"
   },
   "outputs": [],
   "source": [
    "# We observed from above that the fares are high and low on the some specific hours.\n",
    "# Therefore a new feature hourly_seasonality is added to differentiate them.\n",
    "\n",
    "hours_high = set([0, 1, 2, 10, 11, 12, 13, 18])\n",
    "hours_low = set([3, 4, 5, 6, 17, 19, 20])\n",
    "\n",
    "df_train['hourly_seasonality'] = 1\n",
    "df_train.loc[(df_train.hour-4).isin(hours_high), 'hourly_seasonality'] = 2\n",
    "df_train.loc[(df_train.hour-4).isin(hours_low), 'hourly_seasonality'] = 0\n",
    "\n",
    "df_test['hourly_seasonality'] = 1\n",
    "df_test.loc[(df_test.hour-4).isin(hours_high), 'hourly_seasonality'] = 2\n",
    "df_test.loc[(df_test.hour-4).isin(hours_low), 'hourly_seasonality'] = 0\n"
   ]
  },
  {
   "cell_type": "code",
   "execution_count": 0,
   "metadata": {
    "_uuid": "b1169dd3b9f2349864b15fd1918f4f54a0e660c9",
    "colab": {},
    "colab_type": "code",
    "id": "FDfZb46fqIKe"
   },
   "outputs": [],
   "source": [
    "# Limiting the longitude and latitude data with respect to the values of test data.\n",
    "\n",
    "df_train = df_train[df_train.pickup_longitude.between(df_test.pickup_longitude.min(), df_test.pickup_longitude.max())]\n",
    "df_train = df_train[df_train.pickup_latitude.between(df_test.pickup_latitude.min(), df_test.pickup_latitude.max())]\n",
    "df_train = df_train[df_train.dropoff_longitude.between(df_test.dropoff_longitude.min(), df_test.dropoff_longitude.max())]\n",
    "df_train = df_train[df_train.dropoff_latitude.between(df_test.dropoff_latitude.min(), df_test.dropoff_latitude.max())]"
   ]
  },
  {
   "cell_type": "code",
   "execution_count": 0,
   "metadata": {
    "_uuid": "e83835f00fafb8b671fb695872d5f459ff3aa7d4",
    "colab": {
     "base_uri": "https://localhost:8080/",
     "height": 35
    },
    "colab_type": "code",
    "id": "6xbZHEoBqIKn",
    "outputId": "c02d6e4e-55be-4e30-fe0f-23119bae3c24"
   },
   "outputs": [
    {
     "data": {
      "text/plain": [
       "(11084166, 16)"
      ]
     },
     "execution_count": 28,
     "metadata": {
      "tags": []
     },
     "output_type": "execute_result"
    }
   ],
   "source": [
    "# Checking the size of train data.\n",
    "df_train.shape"
   ]
  },
  {
   "cell_type": "code",
   "execution_count": 0,
   "metadata": {
    "_uuid": "d5ad0659bfb27e490a59a681820841217e3a3255",
    "colab": {},
    "colab_type": "code",
    "id": "wI_RnigpqIK9"
   },
   "outputs": [],
   "source": [
    "# Extracting distances from the logitudes and latitudes in 3 ways.\n",
    "\n",
    "## Distance 1: Euclidean Distance\n",
    "def calculate_abs_different(df):\n",
    "    df['abs_diff_longitude'] = (df.dropoff_longitude - df.pickup_longitude).abs()\n",
    "    df['abs_diff_latitude'] = (df.dropoff_latitude - df.pickup_latitude).abs()\n",
    "    calculate_abs_different(df_train)\n",
    "    calculate_abs_different(df_test)\n",
    "\n",
    "    # Converting distances to radians and to miles.\n",
    "    def convert_different_miles(df):\n",
    "    df['abs_diff_longitude'] = df.abs_diff_longitude*50\n",
    "    df['abs_diff_latitude'] = df.abs_diff_latitude*69\n",
    "    convert_different_miles(df_train)\n",
    "    convert_different_miles(df_test)\n",
    "    meas_ang = 0.506\n",
    "\n",
    "    # Adding extra features for calculation and then deleting the unwanted ones.\n",
    "    import math\n",
    "    def add_distance(df):\n",
    "    df['Euclidean'] = (df.abs_diff_latitude**2 + df.abs_diff_longitude**2)**0.5 ### as the crow flies  \n",
    "    df['delta_manh_long'] = (df.Euclidean*np.sin(np.arctan(df.abs_diff_longitude / df.abs_diff_latitude)-meas_ang)).abs()\n",
    "    df['delta_manh_lat'] = (df.Euclidean*np.cos(np.arctan(df.abs_diff_longitude / df.abs_diff_latitude)-meas_ang)).abs()\n",
    "    df['distance'] = df.delta_manh_long + df.delta_manh_lat\n",
    "    df.drop(['abs_diff_longitude', 'abs_diff_latitude','Euclidean', 'delta_manh_long', 'delta_manh_lat'], axis=1, inplace=True)\n",
    "    add_distance(df_train)\n",
    "    add_distance(df_test)\n",
    "    \n",
    "    # Extracting direction.\n",
    "    def calculate_direction(pickup_lat, pickup_lon, dropoff_lat, dropoff_lon):\n",
    "    \n",
    "    #Define earth radius (km)\n",
    "    R_earth = 6371\n",
    "    \n",
    "    #Convert degrees to radians\n",
    "    pickup_lat, pickup_lon, dropoff_lat, dropoff_lon = map(np.radians,[pickup_lat, pickup_lon, dropoff_lat, dropoff_lon])\n",
    "    \n",
    "    #Compute distances along lat, lon dimensions\n",
    "    dlat = dropoff_lat - pickup_lat\n",
    "    dlon = pickup_lon - dropoff_lon\n",
    "    \n",
    "    #Compute bearing distance\n",
    "    a = np.arctan2(np.sin(dlon * np.cos(dropoff_lat)),np.cos(pickup_lat) * np.sin(dropoff_lat) - np.sin(pickup_lat) * np.cos(dropoff_lat) * np.cos(dlon))\n",
    "    return a\n",
    "\n",
    "    # Converting pandas to numpy to get the best performance\n",
    "    df_train['direction'] = calculate_direction(df_train['pickup_latitude'].values, df_train['pickup_longitude'].values, \n",
    "                                       df_train['dropoff_latitude'].values , df_train['dropoff_longitude'].values) \n",
    "    df_test['direction'] = calculate_direction(df_test['pickup_latitude'].values, df_test['pickup_longitude'].values, \n",
    "                                       df_test['dropoff_latitude'].values , df_test['dropoff_longitude'].values) "
   ]
  },
  {
   "cell_type": "code",
   "execution_count": 0,
   "metadata": {
    "_uuid": "d43adb9c0fb9e430e69e5eb7dda259914122dfff",
    "colab": {
     "base_uri": "https://localhost:8080/",
     "height": 229
    },
    "colab_type": "code",
    "id": "EWBSPqaNqILz",
    "outputId": "f6a88f34-a59c-447b-b3af-f711ac01a426"
   },
   "outputs": [
    {
     "data": {
      "text/plain": [
       "0          -1.290129\n",
       "1          -1.291305\n",
       "2          -1.291243\n",
       "3          -1.290051\n",
       "4          -1.291154\n",
       "              ...   \n",
       "11084767   -1.291100\n",
       "11084768   -1.291227\n",
       "11084769   -1.291123\n",
       "11084770   -1.289284\n",
       "11084771   -1.291203\n",
       "Name: dropoff_longitude, Length: 11084772, dtype: float64"
      ]
     },
     "execution_count": 35,
     "metadata": {
      "tags": []
     },
     "output_type": "execute_result"
    }
   ],
   "source": [
    "# Normalize latitude and longitude\n",
    "\n",
    "df_train['pickup_latitude'].apply(lambda x: np.radians(x))\n",
    "df_train['pickup_longitude'].apply(lambda x: np.radians(x))\n",
    "df_train['dropoff_latitude'].apply(lambda x: np.radians(x))\n",
    "df_train['dropoff_longitude'].apply(lambda x: np.radians(x))\n",
    "\n",
    "df_test['pickup_latitude'].apply(lambda x: np.radians(x))\n",
    "df_test['pickup_longitude'].apply(lambda x: np.radians(x))\n",
    "df_test['dropoff_latitude'].apply(lambda x: np.radians(x))\n",
    "df_test['dropoff_longitude'].apply(lambda x: np.radians(x))"
   ]
  },
  {
   "cell_type": "code",
   "execution_count": 0,
   "metadata": {
    "colab": {
     "base_uri": "https://localhost:8080/",
     "height": 694
    },
    "colab_type": "code",
    "id": "2pcJPGxgtG4n",
    "outputId": "280b248b-97bd-4cea-fb13-4ddebfe1820f"
   },
   "outputs": [
    {
     "name": "stderr",
     "output_type": "stream",
     "text": [
      "/usr/local/lib/python3.6/dist-packages/ipykernel_launcher.py:28: SettingWithCopyWarning: \n",
      "A value is trying to be set on a copy of a slice from a DataFrame.\n",
      "Try using .loc[row_indexer,col_indexer] = value instead\n",
      "\n",
      "See the caveats in the documentation: http://pandas.pydata.org/pandas-docs/stable/user_guide/indexing.html#returning-a-view-versus-a-copy\n"
     ]
    },
    {
     "data": {
      "text/html": [
       "<div>\n",
       "<style scoped>\n",
       "    .dataframe tbody tr th:only-of-type {\n",
       "        vertical-align: middle;\n",
       "    }\n",
       "\n",
       "    .dataframe tbody tr th {\n",
       "        vertical-align: top;\n",
       "    }\n",
       "\n",
       "    .dataframe thead th {\n",
       "        text-align: right;\n",
       "    }\n",
       "</style>\n",
       "<table border=\"1\" class=\"dataframe\">\n",
       "  <thead>\n",
       "    <tr style=\"text-align: right;\">\n",
       "      <th></th>\n",
       "      <th>key</th>\n",
       "      <th>fare_amount</th>\n",
       "      <th>pickup_datetime</th>\n",
       "      <th>pickup_longitude</th>\n",
       "      <th>pickup_latitude</th>\n",
       "      <th>dropoff_longitude</th>\n",
       "      <th>dropoff_latitude</th>\n",
       "      <th>passenger_count</th>\n",
       "      <th>hour</th>\n",
       "      <th>day</th>\n",
       "      <th>month</th>\n",
       "      <th>year</th>\n",
       "      <th>day_of_week</th>\n",
       "      <th>hike_status</th>\n",
       "      <th>fare_season</th>\n",
       "      <th>hourly_seasonality</th>\n",
       "      <th>distance</th>\n",
       "      <th>direction</th>\n",
       "      <th>holiday_or_not</th>\n",
       "      <th>H_Distance</th>\n",
       "    </tr>\n",
       "  </thead>\n",
       "  <tbody>\n",
       "    <tr>\n",
       "      <th>33936927</th>\n",
       "      <td>2009-10-19 10:04:00.00000062</td>\n",
       "      <td>2.5</td>\n",
       "      <td>2009-10-19 10:04:00</td>\n",
       "      <td>-73.776780</td>\n",
       "      <td>40.645143</td>\n",
       "      <td>-73.776780</td>\n",
       "      <td>40.645143</td>\n",
       "      <td>1</td>\n",
       "      <td>10</td>\n",
       "      <td>19</td>\n",
       "      <td>10</td>\n",
       "      <td>2009</td>\n",
       "      <td>0</td>\n",
       "      <td>0</td>\n",
       "      <td>1</td>\n",
       "      <td>0</td>\n",
       "      <td>NaN</td>\n",
       "      <td>0.0</td>\n",
       "      <td>0</td>\n",
       "      <td>0.0</td>\n",
       "    </tr>\n",
       "    <tr>\n",
       "      <th>22879791</th>\n",
       "      <td>2010-10-10 22:00:00.000000121</td>\n",
       "      <td>2.9</td>\n",
       "      <td>2010-10-10 22:00:00</td>\n",
       "      <td>-73.978415</td>\n",
       "      <td>40.684400</td>\n",
       "      <td>-73.978415</td>\n",
       "      <td>40.684400</td>\n",
       "      <td>1</td>\n",
       "      <td>22</td>\n",
       "      <td>10</td>\n",
       "      <td>10</td>\n",
       "      <td>2010</td>\n",
       "      <td>6</td>\n",
       "      <td>0</td>\n",
       "      <td>1</td>\n",
       "      <td>2</td>\n",
       "      <td>NaN</td>\n",
       "      <td>0.0</td>\n",
       "      <td>0</td>\n",
       "      <td>0.0</td>\n",
       "    </tr>\n",
       "    <tr>\n",
       "      <th>34297531</th>\n",
       "      <td>2013-08-11 18:29:00.00000052</td>\n",
       "      <td>2.5</td>\n",
       "      <td>2013-08-11 18:29:00</td>\n",
       "      <td>0.000000</td>\n",
       "      <td>0.000000</td>\n",
       "      <td>0.000000</td>\n",
       "      <td>0.000000</td>\n",
       "      <td>6</td>\n",
       "      <td>18</td>\n",
       "      <td>11</td>\n",
       "      <td>8</td>\n",
       "      <td>2013</td>\n",
       "      <td>6</td>\n",
       "      <td>0</td>\n",
       "      <td>1</td>\n",
       "      <td>1</td>\n",
       "      <td>NaN</td>\n",
       "      <td>0.0</td>\n",
       "      <td>0</td>\n",
       "      <td>0.0</td>\n",
       "    </tr>\n",
       "    <tr>\n",
       "      <th>14537399</th>\n",
       "      <td>2009-12-07 15:04:46.0000002</td>\n",
       "      <td>2.5</td>\n",
       "      <td>2009-12-07 15:04:46</td>\n",
       "      <td>-73.977696</td>\n",
       "      <td>40.761911</td>\n",
       "      <td>-73.977696</td>\n",
       "      <td>40.761911</td>\n",
       "      <td>1</td>\n",
       "      <td>15</td>\n",
       "      <td>7</td>\n",
       "      <td>12</td>\n",
       "      <td>2009</td>\n",
       "      <td>0</td>\n",
       "      <td>0</td>\n",
       "      <td>1</td>\n",
       "      <td>2</td>\n",
       "      <td>NaN</td>\n",
       "      <td>0.0</td>\n",
       "      <td>0</td>\n",
       "      <td>0.0</td>\n",
       "    </tr>\n",
       "    <tr>\n",
       "      <th>22472784</th>\n",
       "      <td>2009-04-19 00:24:50.0000009</td>\n",
       "      <td>2.5</td>\n",
       "      <td>2009-04-19 00:24:50</td>\n",
       "      <td>-73.952237</td>\n",
       "      <td>40.777520</td>\n",
       "      <td>-73.952237</td>\n",
       "      <td>40.777520</td>\n",
       "      <td>1</td>\n",
       "      <td>0</td>\n",
       "      <td>19</td>\n",
       "      <td>4</td>\n",
       "      <td>2009</td>\n",
       "      <td>6</td>\n",
       "      <td>0</td>\n",
       "      <td>1</td>\n",
       "      <td>1</td>\n",
       "      <td>NaN</td>\n",
       "      <td>0.0</td>\n",
       "      <td>0</td>\n",
       "      <td>0.0</td>\n",
       "    </tr>\n",
       "    <tr>\n",
       "      <th>...</th>\n",
       "      <td>...</td>\n",
       "      <td>...</td>\n",
       "      <td>...</td>\n",
       "      <td>...</td>\n",
       "      <td>...</td>\n",
       "      <td>...</td>\n",
       "      <td>...</td>\n",
       "      <td>...</td>\n",
       "      <td>...</td>\n",
       "      <td>...</td>\n",
       "      <td>...</td>\n",
       "      <td>...</td>\n",
       "      <td>...</td>\n",
       "      <td>...</td>\n",
       "      <td>...</td>\n",
       "      <td>...</td>\n",
       "      <td>...</td>\n",
       "      <td>...</td>\n",
       "      <td>...</td>\n",
       "      <td>...</td>\n",
       "    </tr>\n",
       "    <tr>\n",
       "      <th>10278055</th>\n",
       "      <td>2014-09-15 16:42:00.000000115</td>\n",
       "      <td>2.5</td>\n",
       "      <td>2014-09-15 16:42:00</td>\n",
       "      <td>0.000000</td>\n",
       "      <td>0.000000</td>\n",
       "      <td>0.000000</td>\n",
       "      <td>0.000000</td>\n",
       "      <td>1</td>\n",
       "      <td>16</td>\n",
       "      <td>15</td>\n",
       "      <td>9</td>\n",
       "      <td>2014</td>\n",
       "      <td>0</td>\n",
       "      <td>1</td>\n",
       "      <td>1</td>\n",
       "      <td>2</td>\n",
       "      <td>NaN</td>\n",
       "      <td>0.0</td>\n",
       "      <td>0</td>\n",
       "      <td>0.0</td>\n",
       "    </tr>\n",
       "    <tr>\n",
       "      <th>12874819</th>\n",
       "      <td>2009-10-12 14:39:00.00000088</td>\n",
       "      <td>2.5</td>\n",
       "      <td>2009-10-12 14:39:00</td>\n",
       "      <td>-73.972737</td>\n",
       "      <td>40.780810</td>\n",
       "      <td>-73.972737</td>\n",
       "      <td>40.780810</td>\n",
       "      <td>1</td>\n",
       "      <td>14</td>\n",
       "      <td>12</td>\n",
       "      <td>10</td>\n",
       "      <td>2009</td>\n",
       "      <td>0</td>\n",
       "      <td>0</td>\n",
       "      <td>1</td>\n",
       "      <td>2</td>\n",
       "      <td>NaN</td>\n",
       "      <td>0.0</td>\n",
       "      <td>0</td>\n",
       "      <td>0.0</td>\n",
       "    </tr>\n",
       "    <tr>\n",
       "      <th>26025354</th>\n",
       "      <td>2014-11-24 14:40:57.0000005</td>\n",
       "      <td>2.5</td>\n",
       "      <td>2014-11-24 14:40:57</td>\n",
       "      <td>-73.953072</td>\n",
       "      <td>40.736295</td>\n",
       "      <td>-73.953072</td>\n",
       "      <td>40.736295</td>\n",
       "      <td>1</td>\n",
       "      <td>14</td>\n",
       "      <td>24</td>\n",
       "      <td>11</td>\n",
       "      <td>2014</td>\n",
       "      <td>0</td>\n",
       "      <td>1</td>\n",
       "      <td>1</td>\n",
       "      <td>2</td>\n",
       "      <td>NaN</td>\n",
       "      <td>0.0</td>\n",
       "      <td>0</td>\n",
       "      <td>0.0</td>\n",
       "    </tr>\n",
       "    <tr>\n",
       "      <th>40020058</th>\n",
       "      <td>2009-04-27 22:49:30.0000003</td>\n",
       "      <td>2.5</td>\n",
       "      <td>2009-04-27 22:49:30</td>\n",
       "      <td>-73.983135</td>\n",
       "      <td>40.730865</td>\n",
       "      <td>-73.983135</td>\n",
       "      <td>40.730865</td>\n",
       "      <td>3</td>\n",
       "      <td>22</td>\n",
       "      <td>27</td>\n",
       "      <td>4</td>\n",
       "      <td>2009</td>\n",
       "      <td>0</td>\n",
       "      <td>0</td>\n",
       "      <td>1</td>\n",
       "      <td>2</td>\n",
       "      <td>NaN</td>\n",
       "      <td>0.0</td>\n",
       "      <td>0</td>\n",
       "      <td>0.0</td>\n",
       "    </tr>\n",
       "    <tr>\n",
       "      <th>21022082</th>\n",
       "      <td>2009-10-12 23:59:25.0000001</td>\n",
       "      <td>2.5</td>\n",
       "      <td>2009-10-12 23:59:25</td>\n",
       "      <td>-73.978006</td>\n",
       "      <td>40.746151</td>\n",
       "      <td>-73.978006</td>\n",
       "      <td>40.746151</td>\n",
       "      <td>1</td>\n",
       "      <td>23</td>\n",
       "      <td>12</td>\n",
       "      <td>10</td>\n",
       "      <td>2009</td>\n",
       "      <td>0</td>\n",
       "      <td>0</td>\n",
       "      <td>1</td>\n",
       "      <td>0</td>\n",
       "      <td>NaN</td>\n",
       "      <td>0.0</td>\n",
       "      <td>0</td>\n",
       "      <td>0.0</td>\n",
       "    </tr>\n",
       "  </tbody>\n",
       "</table>\n",
       "<p>3662 rows × 20 columns</p>\n",
       "</div>"
      ],
      "text/plain": [
       "                                    key  ...  H_Distance\n",
       "33936927   2009-10-19 10:04:00.00000062  ...         0.0\n",
       "22879791  2010-10-10 22:00:00.000000121  ...         0.0\n",
       "34297531   2013-08-11 18:29:00.00000052  ...         0.0\n",
       "14537399    2009-12-07 15:04:46.0000002  ...         0.0\n",
       "22472784    2009-04-19 00:24:50.0000009  ...         0.0\n",
       "...                                 ...  ...         ...\n",
       "10278055  2014-09-15 16:42:00.000000115  ...         0.0\n",
       "12874819   2009-10-12 14:39:00.00000088  ...         0.0\n",
       "26025354    2014-11-24 14:40:57.0000005  ...         0.0\n",
       "40020058    2009-04-27 22:49:30.0000003  ...         0.0\n",
       "21022082    2009-10-12 23:59:25.0000001  ...         0.0\n",
       "\n",
       "[3662 rows x 20 columns]"
      ]
     },
     "execution_count": 37,
     "metadata": {
      "tags": []
     },
     "output_type": "execute_result"
    }
   ],
   "source": [
    "## Distance 2: Haversine Distance\n",
    "\n",
    "def haversine_distance(lat1, long1, lat2, long2):\n",
    "    data = [df_train, df_test]\n",
    "    for i in data:\n",
    "        R = 6371  #radius of earth in kilometers\n",
    "        #R = 3959 #radius of earth in miles\n",
    "        phi1 = np.radians(i[lat1])\n",
    "        phi2 = np.radians(i[lat2])\n",
    "    \n",
    "        delta_phi = np.radians(i[lat2]-i[lat1])\n",
    "        delta_lambda = np.radians(i[long2]-i[long1])\n",
    "    \n",
    "        #a = sin²((φB - φA)/2) + cos φA . cos φB . sin²((λB - λA)/2)\n",
    "        a = np.sin(delta_phi / 2.0) ** 2 + np.cos(phi1) * np.cos(phi2) * np.sin(delta_lambda / 2.0) ** 2\n",
    "    \n",
    "        #c = 2 * atan2( √a, √(1−a) )\n",
    "        c = 2 * np.arctan2(np.sqrt(a), np.sqrt(1-a))\n",
    "    \n",
    "        #d = R*c\n",
    "        d = (R * c) #in kilometers\n",
    "        i['H_Distance'] = d\n",
    "    return d\n",
    "\n",
    "    haversine_distance('pickup_latitude', 'pickup_longitude', 'dropoff_latitude', 'dropoff_longitude')\n",
    "    df_train.sort_values(['H_Distance','fare_amount'], ascending=False)\n",
    "    high_distance = df_train.loc[(df_train['H_Distance']>200)&(df_train['fare_amount']!=0)]\n",
    "    high_distance['H_Distance'] = high_distance.apply(\n",
    "        lambda row: (row['fare_amount'] - 2.50)/1.56,\n",
    "        axis=1\n",
    "    )\n",
    "    df_train = df_train.drop(df_train[(df_train['H_Distance']==0)&(df_train['fare_amount']==0)].index, axis = 0)\n",
    "    weekends = df_train.loc[((df_train['day_of_week']==0) | (df_train['day_of_week']==6)) & (df_train['H_Distance']==0) & (df_train['fare_amount'] < 3.0)]\n",
    "    weekends"
   ]
  },
  {
   "cell_type": "code",
   "execution_count": 0,
   "metadata": {
    "_uuid": "4c8c63392c915da2b81da83025e9829eeefa77f0",
    "colab": {
     "base_uri": "https://localhost:8080/",
     "height": 470
    },
    "colab_type": "code",
    "id": "Bf0XSqyjqIL7",
    "outputId": "ee4a7593-5327-4eb7-d5b7-09b24e07cce3"
   },
   "outputs": [
    {
     "data": {
      "text/plain": [
       "<seaborn.axisgrid.JointGrid at 0x7fedbb44af98>"
      ]
     },
     "execution_count": 38,
     "metadata": {
      "tags": []
     },
     "output_type": "execute_result"
    },
    {
     "data": {
      "image/png": "[encoded data removed]",
      "text/plain": [
       "<Figure size 432x432 with 3 Axes>"
      ]
     },
     "metadata": {
      "tags": []
     },
     "output_type": "display_data"
    }
   ],
   "source": [
    "## Distance 3: Manhattan Distance\n",
    "\n",
    "    def minkowski_distance(x1, x2, y1, y2, p):\n",
    "      return ((abs(x2 - x1) ** p) + (abs(y2 - y1)) ** p) ** (1 / p)\n",
    "\n",
    "    df_train['manhattan'] = minkowski_distance(df_train['pickup_longitude'], df_train['dropoff_longitude'],\n",
    "                                           df_train['pickup_latitude'], df_train['dropoff_latitude'], 1)\n",
    "    df_test['manhattan'] = minkowski_distance(df_test['pickup_longitude'], df_test['dropoff_longitude'],\n",
    "                                           df_test['pickup_latitude'], df_test['dropoff_latitude'], 1)\n",
    "    sns.jointplot(x='distance', y='fare_amount', data=df_train)"
   ]
  },
  {
   "cell_type": "code",
   "execution_count": 0,
   "metadata": {
    "colab": {
     "base_uri": "https://localhost:8080/",
     "height": 477
    },
    "colab_type": "code",
    "id": "56ZMKhRpNBB6",
    "outputId": "4f3c1608-1e0b-4173-aeae-b450523782a7"
   },
   "outputs": [
    {
     "name": "stdout",
     "output_type": "stream",
     "text": [
      "<class 'pandas.core.frame.DataFrame'>\n",
      "Int64Index: 11084109 entries, 6762380 to 31445022\n",
      "Data columns (total 21 columns):\n",
      "key                   object\n",
      "fare_amount           float64\n",
      "pickup_datetime       datetime64[ns]\n",
      "pickup_longitude      float64\n",
      "pickup_latitude       float64\n",
      "dropoff_longitude     float64\n",
      "dropoff_latitude      float64\n",
      "passenger_count       int64\n",
      "hour                  int64\n",
      "day                   int64\n",
      "month                 int64\n",
      "year                  int64\n",
      "day_of_week           int64\n",
      "hike_status           int64\n",
      "fare_season           int64\n",
      "hourly_seasonality    int64\n",
      "distance              float64\n",
      "direction             float64\n",
      "holiday_or_not        int64\n",
      "H_Distance            float64\n",
      "manhattan             float64\n",
      "dtypes: datetime64[ns](1), float64(9), int64(10), object(1)\n",
      "memory usage: 1.8+ GB\n"
     ]
    }
   ],
   "source": [
    "# Viewing all the features in dataset.\n",
    "\n",
    "df_train.info()"
   ]
  },
  {
   "cell_type": "code",
   "execution_count": 0,
   "metadata": {
    "_uuid": "e1a561f9274eb4e08d9a80f5bcf5c7b6056baefb",
    "colab": {},
    "colab_type": "code",
    "id": "I7U8iGKiqIMC"
   },
   "outputs": [],
   "source": [
    "# Since we extracted feature with day, week, month, year so we can remove 'pickup_datetime' feature.\n",
    "\n",
    "df_train.drop(columns=['pickup_datetime'], inplace=True)\n",
    "\n",
    "y = df_train['fare_amount']\n",
    "df_train = df_train.drop(columns=['fare_amount'])"
   ]
  },
  {
   "cell_type": "code",
   "execution_count": 0,
   "metadata": {
    "_uuid": "c7640dcbb77aaa19ca0257f0719d9f6483d5378a",
    "colab": {},
    "colab_type": "code",
    "id": "lr38i-Q3qIMM"
   },
   "outputs": [],
   "source": [
    "# Modeling with model 'lightgbm'.\n",
    "\n",
    "from sklearn.model_selection import train_test_split\n",
    "import lightgbm as lgbm\n",
    "df_train = df_train.drop('key' , axis=1)\n",
    "x_train,x_test,y_train,y_test = train_test_split(df_train,y,random_state=123,test_size=0.1)"
   ]
  },
  {
   "cell_type": "code",
   "execution_count": 0,
   "metadata": {
    "_uuid": "7408884d40ce5799ff455fb443186f42369b6bec",
    "colab": {},
    "colab_type": "code",
    "id": "JhiSUrLhqIMU"
   },
   "outputs": [],
   "source": [
    "# Parameters to be used in lightgbm model.\n",
    "\n",
    "params = {\n",
    "        'boosting_type':'gbdt',\n",
    "        'objective': 'regression',\n",
    "        'nthread': 4,\n",
    "        'num_leaves': 31,\n",
    "        'learning_rate': 0.1,\n",
    "        'max_depth': -1,\n",
    "        'subsample': 0.8,\n",
    "        'bagging_fraction' : 1,\n",
    "        'max_bin' : 10000 ,\n",
    "        'bagging_freq': 10,\n",
    "        'metric': 'rmse',  \n",
    "        'zero_as_missing': True,\n",
    "    }"
   ]
  },
  {
   "cell_type": "code",
   "execution_count": 0,
   "metadata": {
    "_uuid": "ace37fb0c98cdbbe8019b53770f547bf68717029",
    "colab": {
     "base_uri": "https://localhost:8080/",
     "height": 515
    },
    "colab_type": "code",
    "id": "ifashvxeqIMY",
    "outputId": "358973e8-ca64-4382-896a-f28d95029e02"
   },
   "outputs": [
    {
     "name": "stderr",
     "output_type": "stream",
     "text": [
      "/usr/local/lib/python3.6/dist-packages/lightgbm/basic.py:1205: UserWarning: Using categorical_feature in Dataset.\n",
      "  warnings.warn('Using categorical_feature in Dataset.')\n",
      "/usr/local/lib/python3.6/dist-packages/lightgbm/basic.py:762: UserWarning: categorical_feature in param dict is overridden.\n",
      "  warnings.warn('categorical_feature in param dict is overridden.')\n"
     ]
    },
    {
     "name": "stdout",
     "output_type": "stream",
     "text": [
      "Training until validation scores don't improve for 1000 rounds.\n",
      "[500]\tvalid_0's rmse: 3.98458\n",
      "[1000]\tvalid_0's rmse: 3.94021\n",
      "[1500]\tvalid_0's rmse: 3.91778\n",
      "[2000]\tvalid_0's rmse: 3.90108\n",
      "[2500]\tvalid_0's rmse: 3.88986\n",
      "[3000]\tvalid_0's rmse: 3.8802\n",
      "[3500]\tvalid_0's rmse: 3.87175\n",
      "[4000]\tvalid_0's rmse: 3.86453\n",
      "[4500]\tvalid_0's rmse: 3.85981\n",
      "[5000]\tvalid_0's rmse: 3.85409\n",
      "[5500]\tvalid_0's rmse: 3.84921\n",
      "[6000]\tvalid_0's rmse: 3.84413\n",
      "[6500]\tvalid_0's rmse: 3.84029\n",
      "[7000]\tvalid_0's rmse: 3.83644\n",
      "[7500]\tvalid_0's rmse: 3.83262\n",
      "[8000]\tvalid_0's rmse: 3.82993\n",
      "[8500]\tvalid_0's rmse: 3.82725\n",
      "[9000]\tvalid_0's rmse: 3.82493\n",
      "[9500]\tvalid_0's rmse: 3.82236\n",
      "[10000]\tvalid_0's rmse: 3.8197\n",
      "Did not meet early stopping. Best iteration is:\n",
      "[9997]\tvalid_0's rmse: 3.81969\n"
     ]
    }
   ],
   "source": [
    "# Setting up the number of boosting iterations and other parameters of lightgbm.\n",
    "\n",
    "train_set = lgbm.Dataset(x_train, y_train, silent=False,categorical_feature=['day_of_week','hike_status','fare_season','hourly_seasonality'])\n",
    "valid_set = lgbm.Dataset(x_test, y_test, silent=False,categorical_feature=['day_of_week','hike_status','fare_season','hourly_seasonality'])\n",
    "model = lgbm.train(params, train_set = train_set, num_boost_round=10000,early_stopping_rounds=1000,verbose_eval=500, valid_sets=valid_set)"
   ]
  },
  {
   "cell_type": "code",
   "execution_count": 0,
   "metadata": {
    "_uuid": "a2a3c021e62fa19b5888c5d4c94cc00a9a1f26d3",
    "colab": {},
    "colab_type": "code",
    "id": "Hzw_xpvGqIMf"
   },
   "outputs": [],
   "source": [
    "# Dropping the feature 'key' as we don't need it for prediction.\n",
    "# Dropping the feature 'pickup_datetime' as we have extracted its information before and it is not required.\n",
    "\n",
    "test_key = df_test['key']\n",
    "df_test.drop(columns=[\"pickup_datetime\",'key'], axis=1, inplace=True)"
   ]
  },
  {
   "cell_type": "code",
   "execution_count": 0,
   "metadata": {
    "_uuid": "59ac187e77b42e4516197cec6b9b7e1be7ad2e01",
    "colab": {},
    "colab_type": "code",
    "id": "51qNODq9qIMi"
   },
   "outputs": [],
   "source": [
    "# Predicting the outcomes.\n",
    "\n",
    "prediction = model.predict(df_test, num_iteration = model.best_iteration)      "
   ]
  },
  {
   "cell_type": "code",
   "execution_count": 0,
   "metadata": {
    "_uuid": "0a4f76b11a8bb8620c7a5d70fdaf2cde2b654fdc",
    "colab": {},
    "colab_type": "code",
    "id": "H3qtSFMNqIMl"
   },
   "outputs": [],
   "source": [
    "#Code for submission.\n",
    "\n",
    "submission = pd.DataFrame({\n",
    "        \"key\": test_key,\n",
    "        \"fare_amount\": prediction\n",
    "})\n",
    "\n",
    "submission.to_csv('taxi_fare_submissionlgbm.csv',index=False)"
   ]
  }
 ],
 "metadata": {
  "accelerator": "GPU",
  "colab": {
   "collapsed_sections": [],
   "machine_shape": "hm",
   "name": "akhri try.ipynb",
   "provenance": []
  },
  "kernelspec": {
   "display_name": "Python 3",
   "language": "python",
   "name": "python3"
  },
  "language_info": {
   "codemirror_mode": {
    "name": "ipython",
    "version": 3
   },
   "file_extension": ".py",
   "mimetype": "text/x-python",
   "name": "python",
   "nbconvert_exporter": "python",
   "pygments_lexer": "ipython3",
   "version": "3.6.8"
  }
 },
 "nbformat": 4,
 "nbformat_minor": 1
}
